{
 "cells": [
  {
   "cell_type": "code",
   "execution_count": 1,
   "metadata": {},
   "outputs": [
    {
     "data": {
      "text/html": [
       "<div>\n",
       "<style scoped>\n",
       "    .dataframe tbody tr th:only-of-type {\n",
       "        vertical-align: middle;\n",
       "    }\n",
       "\n",
       "    .dataframe tbody tr th {\n",
       "        vertical-align: top;\n",
       "    }\n",
       "\n",
       "    .dataframe thead th {\n",
       "        text-align: right;\n",
       "    }\n",
       "</style>\n",
       "<table border=\"1\" class=\"dataframe\">\n",
       "  <thead>\n",
       "    <tr style=\"text-align: right;\">\n",
       "      <th></th>\n",
       "      <th>iso</th>\n",
       "      <th>language</th>\n",
       "      <th>lw_perc</th>\n",
       "      <th>num_speakers</th>\n",
       "      <th>continent</th>\n",
       "      <th>borrowing_type</th>\n",
       "    </tr>\n",
       "  </thead>\n",
       "  <tbody>\n",
       "    <tr>\n",
       "      <th>0</th>\n",
       "      <td>rmc</td>\n",
       "      <td>Selice Romani</td>\n",
       "      <td>0.63</td>\n",
       "      <td>1350</td>\n",
       "      <td>europe</td>\n",
       "      <td>very_high</td>\n",
       "    </tr>\n",
       "    <tr>\n",
       "      <th>1</th>\n",
       "      <td>rif</td>\n",
       "      <td>Tarifiyt Berber</td>\n",
       "      <td>0.53</td>\n",
       "      <td>1423000</td>\n",
       "      <td>africa</td>\n",
       "      <td>very_high</td>\n",
       "    </tr>\n",
       "    <tr>\n",
       "      <th>2</th>\n",
       "      <td>gue</td>\n",
       "      <td>Gurindji</td>\n",
       "      <td>0.48</td>\n",
       "      <td>590</td>\n",
       "      <td>oceania</td>\n",
       "      <td>high</td>\n",
       "    </tr>\n",
       "    <tr>\n",
       "      <th>3</th>\n",
       "      <td>ron</td>\n",
       "      <td>Romanian</td>\n",
       "      <td>0.43</td>\n",
       "      <td>24150840</td>\n",
       "      <td>europe</td>\n",
       "      <td>high</td>\n",
       "    </tr>\n",
       "    <tr>\n",
       "      <th>4</th>\n",
       "      <td>srm</td>\n",
       "      <td>Saramaccan</td>\n",
       "      <td>0.42</td>\n",
       "      <td>17100</td>\n",
       "      <td>s_america</td>\n",
       "      <td>high</td>\n",
       "    </tr>\n",
       "    <tr>\n",
       "      <th>5</th>\n",
       "      <td>eng</td>\n",
       "      <td>English</td>\n",
       "      <td>0.42</td>\n",
       "      <td>983522920</td>\n",
       "      <td>europe</td>\n",
       "      <td>high</td>\n",
       "    </tr>\n",
       "    <tr>\n",
       "      <th>6</th>\n",
       "      <td>cwg</td>\n",
       "      <td>Ceq Wong</td>\n",
       "      <td>0.38</td>\n",
       "      <td>460</td>\n",
       "      <td>asia</td>\n",
       "      <td>high</td>\n",
       "    </tr>\n",
       "    <tr>\n",
       "      <th>7</th>\n",
       "      <td>jpn</td>\n",
       "      <td>Japanese</td>\n",
       "      <td>0.36</td>\n",
       "      <td>128204860</td>\n",
       "      <td>asia</td>\n",
       "      <td>high</td>\n",
       "    </tr>\n",
       "    <tr>\n",
       "      <th>8</th>\n",
       "      <td>ind</td>\n",
       "      <td>Indonesian</td>\n",
       "      <td>0.35</td>\n",
       "      <td>198395070</td>\n",
       "      <td>asia</td>\n",
       "      <td>high</td>\n",
       "    </tr>\n",
       "    <tr>\n",
       "      <th>9</th>\n",
       "      <td>tbc</td>\n",
       "      <td>Takia</td>\n",
       "      <td>0.32</td>\n",
       "      <td>40000</td>\n",
       "      <td>oceania</td>\n",
       "      <td>high</td>\n",
       "    </tr>\n",
       "    <tr>\n",
       "      <th>10</th>\n",
       "      <td>aqc</td>\n",
       "      <td>Archi</td>\n",
       "      <td>0.32</td>\n",
       "      <td>970</td>\n",
       "      <td>europe</td>\n",
       "      <td>high</td>\n",
       "    </tr>\n",
       "    <tr>\n",
       "      <th>11</th>\n",
       "      <td>kap</td>\n",
       "      <td>Bezhta</td>\n",
       "      <td>0.32</td>\n",
       "      <td>6800</td>\n",
       "      <td>europe</td>\n",
       "      <td>high</td>\n",
       "    </tr>\n",
       "    <tr>\n",
       "      <th>12</th>\n",
       "      <td>sah</td>\n",
       "      <td>Sakha</td>\n",
       "      <td>0.31</td>\n",
       "      <td>450000</td>\n",
       "      <td>asia</td>\n",
       "      <td>high</td>\n",
       "    </tr>\n",
       "    <tr>\n",
       "      <th>13</th>\n",
       "      <td>qvi</td>\n",
       "      <td>Imbabura Quechua</td>\n",
       "      <td>0.30</td>\n",
       "      <td>150000</td>\n",
       "      <td>s_america</td>\n",
       "      <td>high</td>\n",
       "    </tr>\n",
       "    <tr>\n",
       "      <th>14</th>\n",
       "      <td>swh</td>\n",
       "      <td>Swahili</td>\n",
       "      <td>0.30</td>\n",
       "      <td>98292010</td>\n",
       "      <td>africa</td>\n",
       "      <td>high</td>\n",
       "    </tr>\n",
       "    <tr>\n",
       "      <th>15</th>\n",
       "      <td>sjd</td>\n",
       "      <td>Kildin Saami</td>\n",
       "      <td>0.28</td>\n",
       "      <td>350</td>\n",
       "      <td>europe</td>\n",
       "      <td>high</td>\n",
       "    </tr>\n",
       "    <tr>\n",
       "      <th>16</th>\n",
       "      <td>vie</td>\n",
       "      <td>Vietnamese</td>\n",
       "      <td>0.27</td>\n",
       "      <td>68058620</td>\n",
       "      <td>asia</td>\n",
       "      <td>high</td>\n",
       "    </tr>\n",
       "    <tr>\n",
       "      <th>17</th>\n",
       "      <td>yaq</td>\n",
       "      <td>Yaqui</td>\n",
       "      <td>0.27</td>\n",
       "      <td>18030</td>\n",
       "      <td>n_america</td>\n",
       "      <td>high</td>\n",
       "    </tr>\n",
       "    <tr>\n",
       "      <th>18</th>\n",
       "      <td>tha</td>\n",
       "      <td>Thai</td>\n",
       "      <td>0.26</td>\n",
       "      <td>60548550</td>\n",
       "      <td>asia</td>\n",
       "      <td>high</td>\n",
       "    </tr>\n",
       "    <tr>\n",
       "      <th>19</th>\n",
       "      <td>hau</td>\n",
       "      <td>Hausa</td>\n",
       "      <td>0.24</td>\n",
       "      <td>46874100</td>\n",
       "      <td>africa</td>\n",
       "      <td>low</td>\n",
       "    </tr>\n",
       "    <tr>\n",
       "      <th>20</th>\n",
       "      <td>arn</td>\n",
       "      <td>Mapudungun</td>\n",
       "      <td>0.24</td>\n",
       "      <td>258410</td>\n",
       "      <td>s_america</td>\n",
       "      <td>low</td>\n",
       "    </tr>\n",
       "    <tr>\n",
       "      <th>21</th>\n",
       "      <td>mww</td>\n",
       "      <td>White Hmong</td>\n",
       "      <td>0.23</td>\n",
       "      <td>1698400</td>\n",
       "      <td>asia</td>\n",
       "      <td>low</td>\n",
       "    </tr>\n",
       "    <tr>\n",
       "      <th>22</th>\n",
       "      <td>dsb</td>\n",
       "      <td>Lower Sorbian</td>\n",
       "      <td>0.22</td>\n",
       "      <td>6670</td>\n",
       "      <td>europe</td>\n",
       "      <td>low</td>\n",
       "    </tr>\n",
       "    <tr>\n",
       "      <th>23</th>\n",
       "      <td>knc</td>\n",
       "      <td>Kanuri</td>\n",
       "      <td>0.21</td>\n",
       "      <td>4122500</td>\n",
       "      <td>africa</td>\n",
       "      <td>low</td>\n",
       "    </tr>\n",
       "    <tr>\n",
       "      <th>24</th>\n",
       "      <td>nld</td>\n",
       "      <td>Dutch</td>\n",
       "      <td>0.19</td>\n",
       "      <td>22163020</td>\n",
       "      <td>europe</td>\n",
       "      <td>low</td>\n",
       "    </tr>\n",
       "    <tr>\n",
       "      <th>25</th>\n",
       "      <td>plt</td>\n",
       "      <td>Malagasy</td>\n",
       "      <td>0.19</td>\n",
       "      <td>18138380</td>\n",
       "      <td>africa</td>\n",
       "      <td>low</td>\n",
       "    </tr>\n",
       "    <tr>\n",
       "      <th>26</th>\n",
       "      <td>haw</td>\n",
       "      <td>Hawaiian</td>\n",
       "      <td>0.18</td>\n",
       "      <td>2000</td>\n",
       "      <td>n_america</td>\n",
       "      <td>low</td>\n",
       "    </tr>\n",
       "    <tr>\n",
       "      <th>27</th>\n",
       "      <td>tzo</td>\n",
       "      <td>Zinacantán Tzotzil</td>\n",
       "      <td>0.17</td>\n",
       "      <td>235000</td>\n",
       "      <td>n_america</td>\n",
       "      <td>low</td>\n",
       "    </tr>\n",
       "    <tr>\n",
       "      <th>28</th>\n",
       "      <td>mzh</td>\n",
       "      <td>Wichí</td>\n",
       "      <td>0.16</td>\n",
       "      <td>15000</td>\n",
       "      <td>s_america</td>\n",
       "      <td>low</td>\n",
       "    </tr>\n",
       "    <tr>\n",
       "      <th>29</th>\n",
       "      <td>car</td>\n",
       "      <td>Kali'na</td>\n",
       "      <td>0.16</td>\n",
       "      <td>7358</td>\n",
       "      <td>s_america</td>\n",
       "      <td>low</td>\n",
       "    </tr>\n",
       "    <tr>\n",
       "      <th>30</th>\n",
       "      <td>gwd</td>\n",
       "      <td>Gawwada</td>\n",
       "      <td>0.15</td>\n",
       "      <td>69970</td>\n",
       "      <td>africa</td>\n",
       "      <td>low</td>\n",
       "    </tr>\n",
       "    <tr>\n",
       "      <th>31</th>\n",
       "      <td>kek</td>\n",
       "      <td>Q'eqchi'</td>\n",
       "      <td>0.15</td>\n",
       "      <td>817600</td>\n",
       "      <td>n_america</td>\n",
       "      <td>low</td>\n",
       "    </tr>\n",
       "    <tr>\n",
       "      <th>32</th>\n",
       "      <td>irk</td>\n",
       "      <td>Iraqw</td>\n",
       "      <td>0.15</td>\n",
       "      <td>462000</td>\n",
       "      <td>africa</td>\n",
       "      <td>low</td>\n",
       "    </tr>\n",
       "    <tr>\n",
       "      <th>33</th>\n",
       "      <td>crs</td>\n",
       "      <td>Seychelles Creole</td>\n",
       "      <td>0.13</td>\n",
       "      <td>72700</td>\n",
       "      <td>africa</td>\n",
       "      <td>low</td>\n",
       "    </tr>\n",
       "    <tr>\n",
       "      <th>34</th>\n",
       "      <td>jup</td>\n",
       "      <td>Hup</td>\n",
       "      <td>0.12</td>\n",
       "      <td>1240</td>\n",
       "      <td>s_america</td>\n",
       "      <td>low</td>\n",
       "    </tr>\n",
       "    <tr>\n",
       "      <th>35</th>\n",
       "      <td>orh</td>\n",
       "      <td>Oroqen</td>\n",
       "      <td>0.11</td>\n",
       "      <td>1200</td>\n",
       "      <td>asia</td>\n",
       "      <td>low</td>\n",
       "    </tr>\n",
       "    <tr>\n",
       "      <th>36</th>\n",
       "      <td>ote</td>\n",
       "      <td>Otomi</td>\n",
       "      <td>0.11</td>\n",
       "      <td>88500</td>\n",
       "      <td>n_america</td>\n",
       "      <td>low</td>\n",
       "    </tr>\n",
       "    <tr>\n",
       "      <th>37</th>\n",
       "      <td>ket</td>\n",
       "      <td>Ket</td>\n",
       "      <td>0.10</td>\n",
       "      <td>210</td>\n",
       "      <td>asia</td>\n",
       "      <td>low</td>\n",
       "    </tr>\n",
       "    <tr>\n",
       "      <th>38</th>\n",
       "      <td>nmm</td>\n",
       "      <td>Manange</td>\n",
       "      <td>0.10</td>\n",
       "      <td>390</td>\n",
       "      <td>asia</td>\n",
       "      <td>very_low</td>\n",
       "    </tr>\n",
       "    <tr>\n",
       "      <th>39</th>\n",
       "      <td>cmn</td>\n",
       "      <td>Mandarin Chinese</td>\n",
       "      <td>0.02</td>\n",
       "      <td>1091782930</td>\n",
       "      <td>asia</td>\n",
       "      <td>very_low</td>\n",
       "    </tr>\n",
       "  </tbody>\n",
       "</table>\n",
       "</div>"
      ],
      "text/plain": [
       "    iso            language  lw_perc  num_speakers  continent borrowing_type\n",
       "0   rmc       Selice Romani     0.63          1350     europe      very_high\n",
       "1   rif     Tarifiyt Berber     0.53       1423000     africa      very_high\n",
       "2   gue            Gurindji     0.48           590    oceania           high\n",
       "3   ron            Romanian     0.43      24150840     europe           high\n",
       "4   srm          Saramaccan     0.42         17100  s_america           high\n",
       "5   eng             English     0.42     983522920     europe           high\n",
       "6   cwg            Ceq Wong     0.38           460       asia           high\n",
       "7   jpn            Japanese     0.36     128204860       asia           high\n",
       "8   ind          Indonesian     0.35     198395070       asia           high\n",
       "9   tbc               Takia     0.32         40000    oceania           high\n",
       "10  aqc               Archi     0.32           970     europe           high\n",
       "11  kap              Bezhta     0.32          6800     europe           high\n",
       "12  sah               Sakha     0.31        450000       asia           high\n",
       "13  qvi    Imbabura Quechua     0.30        150000  s_america           high\n",
       "14  swh             Swahili     0.30      98292010     africa           high\n",
       "15  sjd        Kildin Saami     0.28           350     europe           high\n",
       "16  vie          Vietnamese     0.27      68058620       asia           high\n",
       "17  yaq               Yaqui     0.27         18030  n_america           high\n",
       "18  tha                Thai     0.26      60548550       asia           high\n",
       "19  hau               Hausa     0.24      46874100     africa            low\n",
       "20  arn          Mapudungun     0.24        258410  s_america            low\n",
       "21  mww         White Hmong     0.23       1698400       asia            low\n",
       "22  dsb       Lower Sorbian     0.22          6670     europe            low\n",
       "23  knc              Kanuri     0.21       4122500     africa            low\n",
       "24  nld               Dutch     0.19      22163020     europe            low\n",
       "25  plt            Malagasy     0.19      18138380     africa            low\n",
       "26  haw            Hawaiian     0.18          2000  n_america            low\n",
       "27  tzo  Zinacantán Tzotzil     0.17        235000  n_america            low\n",
       "28  mzh               Wichí     0.16         15000  s_america            low\n",
       "29  car             Kali'na     0.16          7358  s_america            low\n",
       "30  gwd             Gawwada     0.15         69970     africa            low\n",
       "31  kek            Q'eqchi'     0.15        817600  n_america            low\n",
       "32  irk               Iraqw     0.15        462000     africa            low\n",
       "33  crs   Seychelles Creole     0.13         72700     africa            low\n",
       "34  jup                 Hup     0.12          1240  s_america            low\n",
       "35  orh              Oroqen     0.11          1200       asia            low\n",
       "36  ote               Otomi     0.11         88500  n_america            low\n",
       "37  ket                 Ket     0.10           210       asia            low\n",
       "38  nmm             Manange     0.10           390       asia       very_low\n",
       "39  cmn    Mandarin Chinese     0.02    1091782930       asia       very_low"
      ]
     },
     "execution_count": 1,
     "metadata": {},
     "output_type": "execute_result"
    }
   ],
   "source": [
    "%matplotlib inline\n",
    "import numpy as np\n",
    "import pandas as pd\n",
    "import seaborn as sns\n",
    "import matplotlib.pyplot as plt\n",
    "\n",
    "sns.set_style(\"dark\")\n",
    "sns.set(color_codes=True)\n",
    "\n",
    "wold_df = pd.read_csv('./data/40_wold.csv')\n",
    "wold_df.drop(columns=['glottocode'])"
   ]
  },
  {
   "cell_type": "code",
   "execution_count": 2,
   "metadata": {},
   "outputs": [
    {
     "data": {
      "text/plain": [
       "<matplotlib.axes._subplots.AxesSubplot at 0x10fbc7550>"
      ]
     },
     "execution_count": 2,
     "metadata": {},
     "output_type": "execute_result"
    },
    {
     "data": {
      "image/png": "[encoded data removed]",
      "text/plain": [
       "<matplotlib.figure.Figure at 0x10af59630>"
      ]
     },
     "metadata": {},
     "output_type": "display_data"
    }
   ],
   "source": [
    "wold_df[['num_speakers', 'lw_perc']].plot(kind='scatter', x='num_speakers', y='lw_perc', grid=True)\n",
    "# As you can see below, we have two outliers: Mandarin Chinese and English."
   ]
  },
  {
   "cell_type": "code",
   "execution_count": 3,
   "metadata": {},
   "outputs": [
    {
     "data": {
      "text/html": [
       "<div>\n",
       "<style scoped>\n",
       "    .dataframe tbody tr th:only-of-type {\n",
       "        vertical-align: middle;\n",
       "    }\n",
       "\n",
       "    .dataframe tbody tr th {\n",
       "        vertical-align: top;\n",
       "    }\n",
       "\n",
       "    .dataframe thead th {\n",
       "        text-align: right;\n",
       "    }\n",
       "</style>\n",
       "<table border=\"1\" class=\"dataframe\">\n",
       "  <thead>\n",
       "    <tr style=\"text-align: right;\">\n",
       "      <th></th>\n",
       "      <th>num_speakers</th>\n",
       "      <th>lw_perc</th>\n",
       "    </tr>\n",
       "  </thead>\n",
       "  <tbody>\n",
       "    <tr>\n",
       "      <th>num_speakers</th>\n",
       "      <td>1.000000</td>\n",
       "      <td>-0.052148</td>\n",
       "    </tr>\n",
       "    <tr>\n",
       "      <th>lw_perc</th>\n",
       "      <td>-0.052148</td>\n",
       "      <td>1.000000</td>\n",
       "    </tr>\n",
       "  </tbody>\n",
       "</table>\n",
       "</div>"
      ],
      "text/plain": [
       "              num_speakers   lw_perc\n",
       "num_speakers      1.000000 -0.052148\n",
       "lw_perc          -0.052148  1.000000"
      ]
     },
     "execution_count": 3,
     "metadata": {},
     "output_type": "execute_result"
    }
   ],
   "source": [
    "wold_df[['num_speakers', 'lw_perc']].corr(method='pearson')"
   ]
  },
  {
   "cell_type": "code",
   "execution_count": 4,
   "metadata": {},
   "outputs": [
    {
     "data": {
      "text/plain": [
       "<seaborn.axisgrid.FacetGrid at 0x110008ba8>"
      ]
     },
     "execution_count": 4,
     "metadata": {},
     "output_type": "execute_result"
    },
    {
     "data": {
      "image/png": "[encoded data removed]",
      "text/plain": [
       "<matplotlib.figure.Figure at 0x1100089b0>"
      ]
     },
     "metadata": {},
     "output_type": "display_data"
    }
   ],
   "source": [
    "sns.lmplot('num_speakers', 'lw_perc', data=wold_df)"
   ]
  },
  {
   "cell_type": "code",
   "execution_count": 5,
   "metadata": {},
   "outputs": [],
   "source": [
    "# Applying log to speaker size to bring the outliers closer.\n",
    "wold_df['num_speakers'] = wold_df['num_speakers'].apply(np.log)"
   ]
  },
  {
   "cell_type": "code",
   "execution_count": 6,
   "metadata": {},
   "outputs": [
    {
     "data": {
      "text/html": [
       "<div>\n",
       "<style scoped>\n",
       "    .dataframe tbody tr th:only-of-type {\n",
       "        vertical-align: middle;\n",
       "    }\n",
       "\n",
       "    .dataframe tbody tr th {\n",
       "        vertical-align: top;\n",
       "    }\n",
       "\n",
       "    .dataframe thead th {\n",
       "        text-align: right;\n",
       "    }\n",
       "</style>\n",
       "<table border=\"1\" class=\"dataframe\">\n",
       "  <thead>\n",
       "    <tr style=\"text-align: right;\">\n",
       "      <th></th>\n",
       "      <th>num_speakers</th>\n",
       "      <th>lw_perc</th>\n",
       "    </tr>\n",
       "  </thead>\n",
       "  <tbody>\n",
       "    <tr>\n",
       "      <th>num_speakers</th>\n",
       "      <td>1.000000</td>\n",
       "      <td>0.043156</td>\n",
       "    </tr>\n",
       "    <tr>\n",
       "      <th>lw_perc</th>\n",
       "      <td>0.043156</td>\n",
       "      <td>1.000000</td>\n",
       "    </tr>\n",
       "  </tbody>\n",
       "</table>\n",
       "</div>"
      ],
      "text/plain": [
       "              num_speakers   lw_perc\n",
       "num_speakers      1.000000  0.043156\n",
       "lw_perc           0.043156  1.000000"
      ]
     },
     "execution_count": 6,
     "metadata": {},
     "output_type": "execute_result"
    }
   ],
   "source": [
    "wold_df[['num_speakers', 'lw_perc']].corr(method='pearson')"
   ]
  },
  {
   "cell_type": "code",
   "execution_count": 7,
   "metadata": {},
   "outputs": [
    {
     "data": {
      "text/plain": [
       "<seaborn.axisgrid.FacetGrid at 0x10af59080>"
      ]
     },
     "execution_count": 7,
     "metadata": {},
     "output_type": "execute_result"
    },
    {
     "data": {
      "image/png": "[encoded data removed]",
      "text/plain": [
       "<matplotlib.figure.Figure at 0x11000e4e0>"
      ]
     },
     "metadata": {},
     "output_type": "display_data"
    }
   ],
   "source": [
    "sns.lmplot('num_speakers', 'lw_perc', data=wold_df)"
   ]
  },
  {
   "cell_type": "code",
   "execution_count": 8,
   "metadata": {},
   "outputs": [
    {
     "data": {
      "text/plain": [
       "<seaborn.axisgrid.FacetGrid at 0x11019ac18>"
      ]
     },
     "execution_count": 8,
     "metadata": {},
     "output_type": "execute_result"
    },
    {
     "data": {
      "image/png": "[encoded data removed]",
      "text/plain": [
       "<matplotlib.figure.Figure at 0x1101948d0>"
      ]
     },
     "metadata": {},
     "output_type": "display_data"
    }
   ],
   "source": [
    "wold_facet = sns.FacetGrid(wold_df, col='continent', hue='borrowing_type', col_wrap=3)\n",
    "wold_facet.map(plt.scatter, 'num_speakers', 'lw_perc', marker='.', s=100).add_legend()"
   ]
  },
  {
   "cell_type": "code",
   "execution_count": 9,
   "metadata": {},
   "outputs": [],
   "source": [
    "# Checks if ISO is \"cmn\" -> \"Mandarin Chinese\" to be used for filtering later.\n",
    "not_cmn = wold_df[\"iso\"] != \"cmn\"\n",
    "wold_df_without_cmn = wold_df[not_cmn]"
   ]
  },
  {
   "cell_type": "code",
   "execution_count": 10,
   "metadata": {},
   "outputs": [
    {
     "data": {
      "text/html": [
       "<div>\n",
       "<style scoped>\n",
       "    .dataframe tbody tr th:only-of-type {\n",
       "        vertical-align: middle;\n",
       "    }\n",
       "\n",
       "    .dataframe tbody tr th {\n",
       "        vertical-align: top;\n",
       "    }\n",
       "\n",
       "    .dataframe thead th {\n",
       "        text-align: right;\n",
       "    }\n",
       "</style>\n",
       "<table border=\"1\" class=\"dataframe\">\n",
       "  <thead>\n",
       "    <tr style=\"text-align: right;\">\n",
       "      <th></th>\n",
       "      <th>num_speakers</th>\n",
       "      <th>lw_perc</th>\n",
       "    </tr>\n",
       "  </thead>\n",
       "  <tbody>\n",
       "    <tr>\n",
       "      <th>num_speakers</th>\n",
       "      <td>1.000000</td>\n",
       "      <td>0.144767</td>\n",
       "    </tr>\n",
       "    <tr>\n",
       "      <th>lw_perc</th>\n",
       "      <td>0.144767</td>\n",
       "      <td>1.000000</td>\n",
       "    </tr>\n",
       "  </tbody>\n",
       "</table>\n",
       "</div>"
      ],
      "text/plain": [
       "              num_speakers   lw_perc\n",
       "num_speakers      1.000000  0.144767\n",
       "lw_perc           0.144767  1.000000"
      ]
     },
     "execution_count": 10,
     "metadata": {},
     "output_type": "execute_result"
    }
   ],
   "source": [
    "wold_df_without_cmn[['num_speakers', 'lw_perc']].corr(method='pearson')"
   ]
  },
  {
   "cell_type": "code",
   "execution_count": 11,
   "metadata": {},
   "outputs": [
    {
     "data": {
      "text/plain": [
       "<seaborn.axisgrid.FacetGrid at 0x10af38d68>"
      ]
     },
     "execution_count": 11,
     "metadata": {},
     "output_type": "execute_result"
    },
    {
     "data": {
      "image/png": "[encoded data removed]",
      "text/plain": [
       "<matplotlib.figure.Figure at 0x110db8a20>"
      ]
     },
     "metadata": {},
     "output_type": "display_data"
    }
   ],
   "source": [
    "sns.lmplot('num_speakers', 'lw_perc', data=wold_df_without_cmn)"
   ]
  },
  {
   "cell_type": "code",
   "execution_count": 12,
   "metadata": {},
   "outputs": [],
   "source": [
    "# merging WOLD data with size of L2 speakers (https://en.wikipedia.org/wiki/Second_language)\n",
    "L2_df = pd.read_csv('./data/L2.csv',sep=';')\n",
    "wold_L2 = pd.merge(wold_df_without_cmn, L2_df, on='iso')"
   ]
  },
  {
   "cell_type": "code",
   "execution_count": 13,
   "metadata": {},
   "outputs": [
    {
     "name": "stdout",
     "output_type": "stream",
     "text": [
      "              l2  lw_perc\n",
      "l2       1.00000  0.52734\n",
      "lw_perc  0.52734  1.00000 \tNumber of data points: 10\n"
     ]
    }
   ],
   "source": [
    "# although the correlation is high, it should be noted that there are only 10 data points\n",
    "print(wold_L2[['l2', 'lw_perc']].corr(method='pearson'), '\\tNumber of data points: {}'.format(len(wold_L2)))"
   ]
  },
  {
   "cell_type": "code",
   "execution_count": 14,
   "metadata": {},
   "outputs": [
    {
     "data": {
      "text/plain": [
       "<seaborn.axisgrid.FacetGrid at 0x1101a8320>"
      ]
     },
     "execution_count": 14,
     "metadata": {},
     "output_type": "execute_result"
    },
    {
     "data": {
      "image/png": "[encoded data removed]",
      "text/plain": [
       "<matplotlib.figure.Figure at 0x111140908>"
      ]
     },
     "metadata": {},
     "output_type": "display_data"
    }
   ],
   "source": [
    "sns.lmplot('l2', 'lw_perc', data=wold_L2)"
   ]
  }
 ],
 "metadata": {
  "kernelspec": {
   "display_name": "loanwords",
   "language": "python",
   "name": "loanwords"
  },
  "language_info": {
   "codemirror_mode": {
    "name": "ipython",
    "version": 3
   },
   "file_extension": ".py",
   "mimetype": "text/x-python",
   "name": "python",
   "nbconvert_exporter": "python",
   "pygments_lexer": "ipython3",
   "version": "3.6.3"
  }
 },
 "nbformat": 4,
 "nbformat_minor": 2
}
